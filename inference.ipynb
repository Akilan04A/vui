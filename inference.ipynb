{
 "cells": [
  {
   "cell_type": "code",
   "execution_count": null,
   "id": "0",
   "metadata": {},
   "outputs": [],
   "source": [
    "import torch\n",
    "import time\n",
    "import torchaudio\n",
    "\n",
    "from vui.model import Vui\n",
    "from vui.notebook import play\n",
    "from vui.fluac import Fluac\n",
    "from vui.inference import render as generate\n",
    "\n",
    "model = Vui.from_pretrained_inf(Vui.ABRAHAM).cuda()\n",
    "model.decoder = torch.compile(model.decoder, fullgraph=True, mode=\"reduce-overhead\")"
   ]
  },
  {
   "cell_type": "code",
   "execution_count": null,
   "id": "1",
   "metadata": {},
   "outputs": [],
   "source": [
    "short_samples = [\"\"\"Welcome to Fluxions, the podcast where... we uh explore how technology is shaping the world around us. I'm your host, Alex.\n",
    "[breath] And I'm Jamie um [laugh] today, we’re diving into a [hesitate] topic that’s transforming customer service uh voice technology for agents.\n",
    "That’s right. We’re [hesitate] talking about the AI-driven tools that are making those long, frustrating customer service calls a little more bearable, for both the customer and the agents.\n",
    "\"\"\"]\n",
    "\n",
    "radio = \"\"\"Um, hey Sarah, so I just left the meeting with the, uh, rabbit focus group and they are absolutely loving the new heritage carrots! Like, I've never seen such enthusiastic thumping in my life! The purple ones are testing through the roof - apparently the flavor profile is just amazing - and they're willing to pay a premium for them! We need to, like, triple production on those immediately and maybe consider a subscription model? Anyway, gotta go, but let's touch base tomorrow about scaling this before the Easter rush hits!\"\"\"\n",
    "short_samples.append(radio)\n",
    "short_samples.append(\"\"\"What an absolute joke, like I'm really not enjoying this situation where I'm just forced to say things.\"\"\")\n",
    "short_samples.append(\"\"\" So [breath] I don't know if you've been there [breath] but I'm really pissed off.\n",
    "Oh no! Why, what happened?\n",
    "Well I went to this cafe hearth, and they gave me the worst toastie I've ever had, it didn't come with salad it was just raw.\n",
    "Well that's awful what kind of toastie was it?\n",
    "It was supposed to be a chicken bacon lettuce tomatoe, but it was fucking shite, like really bad and I honestly would have preferred to eat my own shit.\n",
    "[laugh] well, it must have been awful for you, I'm sorry to hear that, why don't we move on to brighter topics, like the good old weather?\n",
    "\"\"\")\n",
    "\n",
    "temperature = .5\n",
    "top_p = None\n",
    "top_k = 100\n",
    "short_samples.reverse()\n",
    "    sr = model.codec.config.sample_rate\n",
    "\n",
    "for chunk in short_samples:\n",
    "    text=f\"{chunk.strip()}\"\n",
    "    print(text)\n",
    "    \n",
    "    t1 = time.perf_counter()\n",
    "    waveform = generate(\n",
    "        model,\n",
    "           text,\n",
    "        temperature=temperature,\n",
    "        top_k=top_k,\n",
    "        top_p=top_p,\n",
    "    )\n",
    "    print(waveform.shape[-1]/(sr*(time.perf_counter()-t1)), \"x\")\n",
    "    print(waveform.shape)\n",
    "    print(\"total time\", time.perf_counter() - t1)\n",
    "    \n",
    "    sample_rate = 22050\n",
    "    waveform = waveform[...,: -4000]\n",
    "    play(waveform.flatten().cpu(), sr, False)\n",
    "    # out_path = f\"{temperature=}-{top_p=}-{top_k=}-{guidance_scale=}-{int(time.time())}.mp3\"\n",
    "    # print(f\"Saved to {out_path}\")\n",
    "    # torchaudio.save(out_path, waveform, sample_rate)"
   ]
  },
  {
   "cell_type": "code",
   "execution_count": null,
   "id": "2",
   "metadata": {},
   "outputs": [],
   "source": []
  },
  {
   "cell_type": "code",
   "execution_count": null,
   "id": "3",
   "metadata": {},
   "outputs": [],
   "source": []
  }
 ],
 "metadata": {
  "kernelspec": {
   "display_name": "Python 3 (ipykernel)",
   "language": "python",
   "name": "python3"
  },
  "language_info": {
   "codemirror_mode": {
    "name": "ipython",
    "version": 3
   },
   "file_extension": ".py",
   "mimetype": "text/x-python",
   "name": "python",
   "nbconvert_exporter": "python",
   "pygments_lexer": "ipython3",
   "version": "3.12.7"
  }
 },
 "nbformat": 4,
 "nbformat_minor": 5
}
